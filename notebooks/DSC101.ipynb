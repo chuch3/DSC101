{
 "cells": [
  {
   "cell_type": "markdown",
   "id": "3fdf5b35-b54d-4b97-9396-e4e9803ddd16",
   "metadata": {},
   "source": [
    "## Notebook for Data preprocessing, EDA and ML modeling with inference "
   ]
  },
  {
   "cell_type": "code",
   "execution_count": 9,
   "id": "8eff7acc-54ab-407a-a42f-c9f256741b0b",
   "metadata": {},
   "outputs": [],
   "source": [
    "\"\"\" Standard modules \"\"\"\n",
    "import os\n",
    "\n",
    "\"\"\" Data analysis and ML stack modules \"\"\"\n",
    "\n",
    "import pandas as pd\n",
    "import numpy as np \n",
    "import matplotlib.pyplot as plt\n",
    "import seaborn as sns\n",
    "sns.set(style=\"whitegrid\")"
   ]
  },
  {
   "cell_type": "markdown",
   "id": "0fb50eeb-2890-4364-abb2-9bbb1ec1adc9",
   "metadata": {},
   "source": [
    "### Table of Summaries\n",
    "\n",
    "1. [Data Preprocessing](#preprocessing)\n",
    "   \n",
    "    1.1. [Displaying Intrusion Data](#display)\n"
   ]
  },
  {
   "cell_type": "markdown",
   "id": "38eb555b-81d3-42dc-b4db-bd827f667aab",
   "metadata": {},
   "source": [
    "### 1. Data Preprocessing <a class=\"anchor\" id=\"preprocessing\"></a>"
   ]
  },
  {
   "cell_type": "markdown",
   "id": "b976ce74-c273-4ec8-b9ae-9edc0ea78237",
   "metadata": {},
   "source": [
    "#### 1.1. Displaying Intrusion Data <a class=\"anchor\" id=\"display\"></a>"
   ]
  },
  {
   "cell_type": "code",
   "execution_count": 10,
   "id": "2f5c9e67-9bc6-4229-b7a1-3cd7c079fe6f",
   "metadata": {},
   "outputs": [],
   "source": [
    "_DATA_FILE_NAME: str = \"cybersecurity_intrusion_data.csv\" # Database file name with format\n",
    "_DATA_DIR_NAME:  str = \"data\" # Directory of database\n",
    "_DATA_FILE_PATH: str = os.path.realpath(\n",
    "        os.path.os.path.join(\"..\", _DATA_DIR_NAME, _DATA_FILE_NAME)\n",
    ") # Full filepath of the database relative to the location of notebook"
   ]
  },
  {
   "cell_type": "code",
   "execution_count": 11,
   "id": "f465a6d5-1f0d-4f68-ad77-bd2134652e8c",
   "metadata": {},
   "outputs": [
    {
     "data": {
      "text/html": [
       "<div>\n",
       "<style scoped>\n",
       "    .dataframe tbody tr th:only-of-type {\n",
       "        vertical-align: middle;\n",
       "    }\n",
       "\n",
       "    .dataframe tbody tr th {\n",
       "        vertical-align: top;\n",
       "    }\n",
       "\n",
       "    .dataframe thead th {\n",
       "        text-align: right;\n",
       "    }\n",
       "</style>\n",
       "<table border=\"1\" class=\"dataframe\">\n",
       "  <thead>\n",
       "    <tr style=\"text-align: right;\">\n",
       "      <th></th>\n",
       "      <th>session_id</th>\n",
       "      <th>network_packet_size</th>\n",
       "      <th>protocol_type</th>\n",
       "      <th>login_attempts</th>\n",
       "      <th>session_duration</th>\n",
       "      <th>encryption_used</th>\n",
       "      <th>ip_reputation_score</th>\n",
       "      <th>failed_logins</th>\n",
       "      <th>browser_type</th>\n",
       "      <th>unusual_time_access</th>\n",
       "      <th>attack_detected</th>\n",
       "    </tr>\n",
       "  </thead>\n",
       "  <tbody>\n",
       "    <tr>\n",
       "      <th>0</th>\n",
       "      <td>SID_00001</td>\n",
       "      <td>599</td>\n",
       "      <td>TCP</td>\n",
       "      <td>4</td>\n",
       "      <td>492.983263</td>\n",
       "      <td>DES</td>\n",
       "      <td>0.606818</td>\n",
       "      <td>1</td>\n",
       "      <td>Edge</td>\n",
       "      <td>0</td>\n",
       "      <td>1</td>\n",
       "    </tr>\n",
       "    <tr>\n",
       "      <th>1</th>\n",
       "      <td>SID_00002</td>\n",
       "      <td>472</td>\n",
       "      <td>TCP</td>\n",
       "      <td>3</td>\n",
       "      <td>1557.996461</td>\n",
       "      <td>DES</td>\n",
       "      <td>0.301569</td>\n",
       "      <td>0</td>\n",
       "      <td>Firefox</td>\n",
       "      <td>0</td>\n",
       "      <td>0</td>\n",
       "    </tr>\n",
       "    <tr>\n",
       "      <th>2</th>\n",
       "      <td>SID_00003</td>\n",
       "      <td>629</td>\n",
       "      <td>TCP</td>\n",
       "      <td>3</td>\n",
       "      <td>75.044262</td>\n",
       "      <td>DES</td>\n",
       "      <td>0.739164</td>\n",
       "      <td>2</td>\n",
       "      <td>Chrome</td>\n",
       "      <td>0</td>\n",
       "      <td>1</td>\n",
       "    </tr>\n",
       "    <tr>\n",
       "      <th>3</th>\n",
       "      <td>SID_00004</td>\n",
       "      <td>804</td>\n",
       "      <td>UDP</td>\n",
       "      <td>4</td>\n",
       "      <td>601.248835</td>\n",
       "      <td>DES</td>\n",
       "      <td>0.123267</td>\n",
       "      <td>0</td>\n",
       "      <td>Unknown</td>\n",
       "      <td>0</td>\n",
       "      <td>1</td>\n",
       "    </tr>\n",
       "    <tr>\n",
       "      <th>4</th>\n",
       "      <td>SID_00005</td>\n",
       "      <td>453</td>\n",
       "      <td>TCP</td>\n",
       "      <td>5</td>\n",
       "      <td>532.540888</td>\n",
       "      <td>AES</td>\n",
       "      <td>0.054874</td>\n",
       "      <td>1</td>\n",
       "      <td>Firefox</td>\n",
       "      <td>0</td>\n",
       "      <td>0</td>\n",
       "    </tr>\n",
       "  </tbody>\n",
       "</table>\n",
       "</div>"
      ],
      "text/plain": [
       "  session_id  network_packet_size protocol_type  login_attempts  \\\n",
       "0  SID_00001                  599           TCP               4   \n",
       "1  SID_00002                  472           TCP               3   \n",
       "2  SID_00003                  629           TCP               3   \n",
       "3  SID_00004                  804           UDP               4   \n",
       "4  SID_00005                  453           TCP               5   \n",
       "\n",
       "   session_duration encryption_used  ip_reputation_score  failed_logins  \\\n",
       "0        492.983263             DES             0.606818              1   \n",
       "1       1557.996461             DES             0.301569              0   \n",
       "2         75.044262             DES             0.739164              2   \n",
       "3        601.248835             DES             0.123267              0   \n",
       "4        532.540888             AES             0.054874              1   \n",
       "\n",
       "  browser_type  unusual_time_access  attack_detected  \n",
       "0         Edge                    0                1  \n",
       "1      Firefox                    0                0  \n",
       "2       Chrome                    0                1  \n",
       "3      Unknown                    0                1  \n",
       "4      Firefox                    0                0  "
      ]
     },
     "execution_count": 11,
     "metadata": {},
     "output_type": "execute_result"
    }
   ],
   "source": [
    "df = pd.read_csv(_DATA_FILE_PATH)\n",
    "\n",
    "df.head() "
   ]
  },
  {
   "cell_type": "code",
   "execution_count": 12,
   "id": "aeca5825-39b3-4420-93aa-62e5a4ab2afd",
   "metadata": {},
   "outputs": [
    {
     "name": "stdout",
     "output_type": "stream",
     "text": [
      "<class 'pandas.core.frame.DataFrame'>\n",
      "RangeIndex: 9537 entries, 0 to 9536\n",
      "Data columns (total 11 columns):\n",
      " #   Column               Non-Null Count  Dtype  \n",
      "---  ------               --------------  -----  \n",
      " 0   session_id           9537 non-null   object \n",
      " 1   network_packet_size  9537 non-null   int64  \n",
      " 2   protocol_type        9537 non-null   object \n",
      " 3   login_attempts       9537 non-null   int64  \n",
      " 4   session_duration     9537 non-null   float64\n",
      " 5   encryption_used      7571 non-null   object \n",
      " 6   ip_reputation_score  9537 non-null   float64\n",
      " 7   failed_logins        9537 non-null   int64  \n",
      " 8   browser_type         9537 non-null   object \n",
      " 9   unusual_time_access  9537 non-null   int64  \n",
      " 10  attack_detected      9537 non-null   int64  \n",
      "dtypes: float64(2), int64(5), object(4)\n",
      "memory usage: 819.7+ KB\n"
     ]
    }
   ],
   "source": [
    "df.info()"
   ]
  },
  {
   "cell_type": "code",
   "execution_count": 24,
   "id": "570f2ac2-b6f9-4fff-ab4d-f9ecd2b366b2",
   "metadata": {},
   "outputs": [
    {
     "data": {
      "text/plain": [
       "session_id                0\n",
       "network_packet_size       0\n",
       "protocol_type             0\n",
       "login_attempts            0\n",
       "session_duration          0\n",
       "encryption_used        1966\n",
       "ip_reputation_score       0\n",
       "failed_logins             0\n",
       "browser_type              0\n",
       "unusual_time_access       0\n",
       "attack_detected           0\n",
       "dtype: int64"
      ]
     },
     "execution_count": 24,
     "metadata": {},
     "output_type": "execute_result"
    }
   ],
   "source": [
    "missing_values = df.isnull()\n",
    "\n",
    "missing_values.sum()"
   ]
  },
  {
   "cell_type": "code",
   "execution_count": null,
   "id": "6fc87268-3ab0-413e-b3bd-7113d15a1781",
   "metadata": {},
   "outputs": [],
   "source": [
    "sns.heatmap(df.isnull(), annot=True)\n",
    "plt.show()"
   ]
  },
  {
   "cell_type": "code",
   "execution_count": 18,
   "id": "cb619520-08d2-45dd-8e9c-c0089890918e",
   "metadata": {},
   "outputs": [
    {
     "name": "stdout",
     "output_type": "stream",
     "text": [
      "Number of duplicated data: 0\n"
     ]
    }
   ],
   "source": [
    "print(f\"Number of duplicated data: {df.duplicated().sum()}\")"
   ]
  },
  {
   "cell_type": "code",
   "execution_count": null,
   "id": "30e5eb95-334a-4062-83b4-3d50df2546e2",
   "metadata": {},
   "outputs": [],
   "source": []
  }
 ],
 "metadata": {
  "kernelspec": {
   "display_name": "Python 3 (ipykernel)",
   "language": "python",
   "name": "python3"
  },
  "language_info": {
   "codemirror_mode": {
    "name": "ipython",
    "version": 3
   },
   "file_extension": ".py",
   "mimetype": "text/x-python",
   "name": "python",
   "nbconvert_exporter": "python",
   "pygments_lexer": "ipython3",
   "version": "3.13.2"
  }
 },
 "nbformat": 4,
 "nbformat_minor": 5
}
